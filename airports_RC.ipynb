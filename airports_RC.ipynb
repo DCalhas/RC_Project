{
 "cells": [
  {
   "cell_type": "markdown",
   "metadata": {},
   "source": [
    "# Complex Networks 1st Project\n",
    "## Imports and network genaration"
   ]
  },
  {
   "cell_type": "code",
   "execution_count": 2,
   "metadata": {},
   "outputs": [],
   "source": [
    "import networkx as nx\n",
    "import matplotlib.pyplot as plt\n",
    "import collections\n",
    "import numpy as np\n",
    "\n",
    "\n",
    "# Read the graph\n",
    "G = nx.read_graphml('airlines.graphml')\n",
    "\n",
    "\n",
    "\n",
    "# https://networkx.github.io/documentation/networkx-1.10/reference/algorithms.clustering.html\n",
    "# https://networkx.github.io/documentation/networkx-1.10/reference/algorithms.centrality.html\n",
    "\n"
   ]
  },
  {
   "cell_type": "markdown",
   "metadata": {},
   "source": [
    "## Average Path Length\n",
    "\n",
    "What's the average shortest path from node A to node B?"
   ]
  },
  {
   "cell_type": "code",
   "execution_count": 35,
   "metadata": {},
   "outputs": [
    {
     "name": "stdout",
     "output_type": "stream",
     "text": [
      "Average Path Length:  2.3180578286961264\n"
     ]
    }
   ],
   "source": [
    "print(\"Average Path Length: \", nx.average_shortest_path_length(G))"
   ]
  },
  {
   "cell_type": "markdown",
   "metadata": {},
   "source": [
    "## Clustering"
   ]
  },
  {
   "cell_type": "code",
   "execution_count": 4,
   "metadata": {},
   "outputs": [],
   "source": [
    "# Clustering stuff ?? Maybe it won't work because of that multigraph shit\n",
    "# Average times that airports B<->C given that A<->C and A<->B\n",
    "# Can't do this since this a a multigraph (more than one edge can exist from A to B)\n",
    "# print(\"Average Clustering: \", nx.triangles(G))"
   ]
  },
  {
   "cell_type": "markdown",
   "metadata": {},
   "source": [
    "## Centrality"
   ]
  },
  {
   "cell_type": "markdown",
   "metadata": {},
   "source": [
    "### Betweeness centrality\n",
    "Here we will be plotting the top 10 airports with the biggest betweenness centrality.\n",
    "This is a measure of how much a appears more times in the shortest paths between two other nodes."
   ]
  },
  {
   "cell_type": "code",
   "execution_count": 32,
   "metadata": {},
   "outputs": [
    {
     "data": {
      "image/png": "[encoded data removed]",
      "text/plain": [
       "<Figure size 432x288 with 1 Axes>"
      ]
     },
     "metadata": {
      "needs_background": "light"
     },
     "output_type": "display_data"
    }
   ],
   "source": [
    "import operator\n",
    "\n",
    "# Get the betweenness centrality of all the nodes\n",
    "betweennessDic = nx.betweenness_centrality(G)\n",
    "# Get the sorted betweenness centrality\n",
    "sorted_betweenness = sorted(betweennessDic.items(), key=operator.itemgetter(1), reverse=True)\n",
    "# Only the best 10 will be considered\n",
    "sorted_betweenness = list(sorted_betweenness[0:10])\n",
    "# Get two lists, one with the airport codes and one with the corresponding betweenness centrality measure\n",
    "airport_number, betweenness = zip(*sorted_betweenness)\n",
    "\n",
    "node_attributes = nx.get_node_attributes(G,'tooltip')\n",
    "\n",
    "# Array with airport code\n",
    "airport_codes = []\n",
    "\n",
    "for i in range(len(airport_number)):\n",
    "    airport_codes.append(node_attributes[airport_number[i]][0:3])\n",
    "    \n",
    "\n",
    "plt.figure()\n",
    "plt.barh(range(len(betweenness)),betweenness)\n",
    "plt.yticks(range(len(airport_codes)),airport_codes)\n",
    "\n",
    "plt.show()"
   ]
  },
  {
   "cell_type": "markdown",
   "metadata": {},
   "source": [
    "### Closeness centrality\n",
    "Here we will be Plotting the top 10 airports with the biggest closeness centrality.\n",
    "Gives us how close each airport is to the others. Can compute the airport closest to every other in the USA."
   ]
  },
  {
   "cell_type": "code",
   "execution_count": 34,
   "metadata": {},
   "outputs": [
    {
     "data": {
      "image/png": "[encoded data removed]",
      "text/plain": [
       "<Figure size 432x288 with 1 Axes>"
      ]
     },
     "metadata": {
      "needs_background": "light"
     },
     "output_type": "display_data"
    }
   ],
   "source": [
    "import operator\n",
    "\n",
    "closeness = nx.closeness_centrality(G)\n",
    "\n",
    "sorted_closeness = sorted(closeness.items(), key=operator.itemgetter(1), reverse=True)\n",
    "\n",
    "node_info = nx.get_node_attributes(G, 'tooltip')\n",
    "nodes = []\n",
    "for t in sorted_closeness[0:10]:\n",
    "    nodes += [node_info[t[0]][0:3]]\n",
    "\n",
    "closeness_values = []\n",
    "for t in sorted_closeness[0:10]:\n",
    "    closeness_values += [t[1]]\n",
    "\n",
    "plt.figure()\n",
    "\n",
    "plt.barh(range(len(nodes)),closeness_values)\n",
    "plt.yticks(range(len(nodes)),nodes)\n",
    "\n",
    "plt.show()"
   ]
  },
  {
   "cell_type": "markdown",
   "metadata": {},
   "source": [
    "## Degree Study"
   ]
  },
  {
   "cell_type": "markdown",
   "metadata": {},
   "source": [
    "### Average degree\n",
    "The average degree accounting for all the nodes in the network"
   ]
  },
  {
   "cell_type": "code",
   "execution_count": 39,
   "metadata": {},
   "outputs": [
    {
     "name": "stdout",
     "output_type": "stream",
     "text": [
      "Average degree:  17.880851063829788\n"
     ]
    }
   ],
   "source": [
    "# Get list with degrees of each node\n",
    "degree_sequence = sorted([d for n, d in G.degree()], reverse=True)\n",
    "\n",
    "# Get the average degree\n",
    "average_degree = sum(degree_sequence)/len(degree_sequence)\n",
    "\n",
    "print(\"Average degree: \", average_degree)"
   ]
  },
  {
   "cell_type": "markdown",
   "metadata": {},
   "source": [
    "### Average Degree Connectivity\n",
    "How popular are the airports that connect to the popular/unpopular airports"
   ]
  },
  {
   "cell_type": "code",
   "execution_count": 24,
   "metadata": {},
   "outputs": [
    {
     "data": {
      "image/png": "[encoded data removed]",
      "text/plain": [
       "<Figure size 432x288 with 1 Axes>"
      ]
     },
     "metadata": {
      "needs_background": "light"
     },
     "output_type": "display_data"
    }
   ],
   "source": [
    "import operator\n",
    "\n",
    "# Get the average degree connectivity dic\n",
    "average_degree_conn = nx.average_degree_connectivity(G)\n",
    "\n",
    "# sort it in a list\n",
    "sorted_average_degree_conn = sorted(average_degree_conn.items(), key=operator.itemgetter(1), reverse=True)\n",
    "\n",
    "# Get two lists, one with the degrees X and the other one with the average degree of the neighbours of node\n",
    "# with degree X\n",
    "degrees, neighbour_degree_average = zip(*sorted_average_degree_conn)\n",
    "\n",
    "ax = plt.subplot()\n",
    "plt.bar(degrees, neighbour_degree_average, width=0.5, color='b')\n",
    "plt.title(\"Average Degree Connectivity\")\n",
    "plt.ylabel(\"Average neighbour degree\")\n",
    "plt.xlabel(\"Degree k\")\n",
    "plt.show()"
   ]
  },
  {
   "cell_type": "markdown",
   "metadata": {},
   "source": [
    "### Degree distribution\n",
    "Degree of the nodes and the respective number of nodes that have that degree"
   ]
  },
  {
   "cell_type": "code",
   "execution_count": 40,
   "metadata": {},
   "outputs": [
    {
     "data": {
      "image/png": "[encoded data removed]",
      "text/plain": [
       "<Figure size 432x288 with 1 Axes>"
      ]
     },
     "metadata": {
      "needs_background": "light"
     },
     "output_type": "display_data"
    }
   ],
   "source": [
    "# Get list with degrees of each node\n",
    "degree_sequence = sorted([d for n, d in G.degree()], reverse=True)\n",
    "\n",
    "# Dic with how much time each degree appeared\n",
    "degreeCount = collections.Counter(degree_sequence)\n",
    "\n",
    "# Separate dic into two separated tuples\n",
    "deg, cnt = zip(*degreeCount.items())\n",
    "cnt = list(cnt)\n",
    "\n",
    "\n",
    "# Normalize cnt getting %\n",
    "total_sum = sum(cnt)\n",
    "for i in range(len(cnt)):\n",
    "    cnt[i] = cnt[i]/total_sum\n",
    "    \n",
    "ax = plt.subplot()\n",
    "plt.bar(deg, cnt, width=0.5, color='b', tick_label=[d for d in deg])\n",
    "plt.plot(deg, cnt, linestyle='--')\n",
    "plt.title(\"Degree Distribution\")\n",
    "plt.ylabel(\"Probability P(k)\")\n",
    "plt.xlabel(\"Degree k\")\n",
    "\n",
    "plt.xticks([258])\n",
    "\n",
    "plt.show()"
   ]
  },
  {
   "cell_type": "markdown",
   "metadata": {},
   "source": [
    "### Degree distribution (cummulative and non-commulative) in a log/log scale - Power Law"
   ]
  },
  {
   "cell_type": "code",
   "execution_count": 5,
   "metadata": {},
   "outputs": [
    {
     "data": {
      "image/png": "[encoded data removed]",
      "text/plain": [
       "<Figure size 432x288 with 1 Axes>"
      ]
     },
     "metadata": {
      "needs_background": "light"
     },
     "output_type": "display_data"
    },
    {
     "data": {
      "image/png": "[encoded data removed]",
      "text/plain": [
       "<Figure size 432x288 with 1 Axes>"
      ]
     },
     "metadata": {
      "needs_background": "light"
     },
     "output_type": "display_data"
    }
   ],
   "source": [
    "###################################################################################\n",
    "#Plotting the power law in a log log scale ---- Non cummulative plot\n",
    "###################################################################################\n",
    "\n",
    "plt.figure()\n",
    "plt.title(\"Degree Distribution (log/log)\")\n",
    "plt.ylabel(\"log₁₀ P(k)\")\n",
    "plt.xlabel(\"log₁₀ k\")\n",
    "\n",
    "plt.loglog(deg, cnt, 'o')\n",
    "\n",
    "\n",
    "###################################################################################\n",
    "#Plotting the power law in a log log scale ---- Cummulative plot\n",
    "###################################################################################\n",
    "\n",
    "\n",
    "# Build cummulative vector\n",
    "cnt_cdf = []\n",
    "for i in range(len(cnt)):\n",
    "\tcnt_cdf += [sum(cnt[0:i+1])]\n",
    "\n",
    "plt.figure()\n",
    "\n",
    "plt.title(\"Cumulative Degree Distribution (log/log)\")\n",
    "plt.ylabel(\"log₁₀ P_cum(k)\")\n",
    "plt.xlabel(\"log₁₀ k\")\n",
    "plt.loglog(deg, cnt_cdf, 'o')\n",
    "\n",
    "plt.show()\n",
    "\n",
    "#package python to compute the linear line is named power law https://pypi.org/project/powerlaw/"
   ]
  },
  {
   "cell_type": "markdown",
   "metadata": {},
   "source": [
    "### Calculating gama"
   ]
  },
  {
   "cell_type": "code",
   "execution_count": 41,
   "metadata": {},
   "outputs": [
    {
     "name": "stdout",
     "output_type": "stream",
     "text": [
      "Gama value of network:  3.0429834900555677\n"
     ]
    },
    {
     "name": "stderr",
     "output_type": "stream",
     "text": [
      "Calculating best minimal value for power law fit\n"
     ]
    }
   ],
   "source": [
    "import powerlaw as pl\n",
    "\n",
    "# Fits the parameters of the distribution to the data.\n",
    "fit = pl.Fit(cnt_cdf)\n",
    "\n",
    "\n",
    "print(\"Gama value of network: \", fit.alpha)"
   ]
  },
  {
   "cell_type": "markdown",
   "metadata": {},
   "source": [
    "### Plot the cumulative degree distribution within the optimal interval"
   ]
  },
  {
   "cell_type": "code",
   "execution_count": 44,
   "metadata": {},
   "outputs": [
    {
     "name": "stdout",
     "output_type": "stream",
     "text": [
      "None\n",
      "0.3191489361702127\n"
     ]
    },
    {
     "data": {
      "image/png": "[encoded data removed]",
      "text/plain": [
       "<Figure size 432x288 with 1 Axes>"
      ]
     },
     "metadata": {
      "needs_background": "light"
     },
     "output_type": "display_data"
    }
   ],
   "source": [
    "fit.plot_ccdf(color = 'b', marker='o', linewidth= 2)\n",
    "print(fit.xmax)\n",
    "print(fit.xmin)\n"
   ]
  },
  {
   "cell_type": "markdown",
   "metadata": {},
   "source": [
    "### Plot the CDD and the power law with the calculated gama within the optimal interval\n"
   ]
  },
  {
   "cell_type": "code",
   "execution_count": 27,
   "metadata": {},
   "outputs": [
    {
     "data": {
      "text/plain": [
       "<matplotlib.axes._subplots.AxesSubplot at 0x7f17b194d940>"
      ]
     },
     "execution_count": 27,
     "metadata": {},
     "output_type": "execute_result"
    },
    {
     "data": {
      "image/png": "[encoded data removed]",
      "text/plain": [
       "<Figure size 432x288 with 1 Axes>"
      ]
     },
     "metadata": {
      "needs_background": "light"
     },
     "output_type": "display_data"
    }
   ],
   "source": [
    "fig1 = fit.plot_ccdf(color = 'b', marker='o', linewidth= 2)\n",
    "fit.power_law.plot_ccdf(color='b', linestyle='--', ax=fig1)"
   ]
  }
 ],
 "metadata": {
  "kernelspec": {
   "display_name": "Python 3",
   "language": "python",
   "name": "python3"
  },
  "language_info": {
   "codemirror_mode": {
    "name": "ipython",
    "version": 3
   },
   "file_extension": ".py",
   "mimetype": "text/x-python",
   "name": "python",
   "nbconvert_exporter": "python",
   "pygments_lexer": "ipython3",
   "version": "3.6.6"
  }
 },
 "nbformat": 4,
 "nbformat_minor": 2
}
