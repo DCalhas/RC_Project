{
 "cells": [
  {
   "cell_type": "markdown",
   "metadata": {},
   "source": [
    "# Complex Networks 1st Project\n",
    "Here we have the imports of and the graph being generated"
   ]
  },
  {
   "cell_type": "code",
   "execution_count": 2,
   "metadata": {},
   "outputs": [],
   "source": [
    "import networkx as nx\n",
    "import matplotlib.pyplot as plt\n",
    "import collections\n",
    "import numpy as np\n",
    "\n",
    "\n",
    "# Read the graph\n",
    "G = nx.read_graphml('airlines.graphml')\n",
    "\n",
    "\n",
    "\n",
    "# https://networkx.github.io/documentation/networkx-1.10/reference/algorithms.clustering.html\n",
    "# https://networkx.github.io/documentation/networkx-1.10/reference/algorithms.centrality.html\n",
    "\n"
   ]
  },
  {
   "cell_type": "markdown",
   "metadata": {},
   "source": [
    "Printing various metrics"
   ]
  },
  {
   "cell_type": "code",
   "execution_count": null,
   "metadata": {},
   "outputs": [],
   "source": [
    "# How big the medium trip is\n",
    "print(\"Average Path Length: \", nx.average_shortest_path_length(G))\n",
    "\n",
    "# How popular are the airports that connect to the popular/unpopular airports\n",
    "print(\"Average Degree Connectivity (mean k): \", nx.average_degree_connectivity(G))\n",
    "\n",
    "# Average times that airports B<->C given that A<->C and A<->B\n",
    "# print(\"Average Clustering: \", nx.average_clustering(G))\n",
    "\n",
    "# Gives us how close each airport is to the others. Can compute the airport closest to every other in the world\n",
    "print(\"Closeness Centrality: \", nx.closeness_centrality(G))\n",
    "\n",
    "# The node that appears more times in the shortest paths between two other nodes\n",
    "print(\"Closeness Centrality: \", nx.betweenness_centrality(G))\n",
    "\n",
    "#TODO degree distribution histogram"
   ]
  },
  {
   "cell_type": "markdown",
   "metadata": {},
   "source": [
    "<br>\n",
    "Computing degree of the nodes and the respective number of nodes that have that degree\n",
    "<br>"
   ]
  },
  {
   "cell_type": "code",
   "execution_count": null,
   "metadata": {},
   "outputs": [],
   "source": [
    "# Get list with degrees of each node\n",
    "degree_sequence = sorted([d for n, d in G.degree()], reverse=True)\n",
    "\n",
    "print(\"###################################################################################\")\n",
    "\n",
    "# Dic with how much time each degree appeared\n",
    "degreeCount = collections.Counter(degree_sequence)\n",
    "\n",
    "# Separate dic into two separated tuples\n",
    "deg, cnt = zip(*degreeCount.items())\n",
    "cnt = list(cnt)\n",
    "\n",
    "\n",
    "# Normalize cnt getting %\n",
    "total_sum = sum(cnt)\n",
    "for i in range(len(cnt)):\n",
    "    cnt[i] = cnt[i]/total_sum"
   ]
  },
  {
   "cell_type": "markdown",
   "metadata": {},
   "source": [
    "# Plotting the power law without any scale transformation"
   ]
  },
  {
   "cell_type": "code",
   "execution_count": null,
   "metadata": {},
   "outputs": [],
   "source": [
    "\n",
    "ax = plt.subplot()\n",
    "plt.bar(deg, cnt, width=0.5, color='b', tick_label=[d for d in deg])\n",
    "plt.plot(deg, cnt, linestyle='--')\n",
    "plt.title(\"Degree Distribution\")\n",
    "plt.ylabel(\"Probability P(k)\")\n",
    "plt.xlabel(\"Degree k\")\n",
    "\n",
    "plt.xticks([258])\n",
    "\n",
    "plt.show()"
   ]
  },
  {
   "cell_type": "markdown",
   "metadata": {},
   "source": [
    "# Transforming the scale to a log log scale\n",
    "\n",
    "<br>\n",
    "Plotting the Power Law\n",
    "<br>\n",
    "And the respective Cummulative distributed function"
   ]
  },
  {
   "cell_type": "code",
   "execution_count": null,
   "metadata": {},
   "outputs": [],
   "source": [
    "###################################################################################\n",
    "#Plotting the power law in a log log scale ---- Non cummulative plot\n",
    "###################################################################################\n",
    "\n",
    "plt.figure()\n",
    "plt.title(\"Degree Distribution (log/log)\")\n",
    "plt.ylabel(\"log₁₀ P(k)\")\n",
    "plt.xlabel(\"log₁₀ k\")\n",
    "\n",
    "plt.loglog(deg, cnt, 'o')\n",
    "\n",
    "\n",
    "#----------------------------------------------------------------------------------\n",
    "#----------------------------------------------------------------------------------\n",
    "#----------------------------------------------------------------------------------\n",
    "\n",
    "\n",
    "###################################################################################\n",
    "#Plotting the power law in a log log scale ---- Cummulative plot\n",
    "###################################################################################\n",
    "\n",
    "\n",
    "# Build cummulative vector\n",
    "cnt_cdf = []\n",
    "for i in range(len(cnt)):\n",
    "\tcnt_cdf += [sum(cnt[0:i+1])]\n",
    "\n",
    "plt.figure()\n",
    "\n",
    "plt.title(\"Cumulative Degree Distribution (log/log)\")\n",
    "plt.ylabel(\"log₁₀ P_cum(k)\")\n",
    "plt.xlabel(\"log₁₀ k\")\n",
    "plt.loglog(deg, cnt_cdf, 'o')\n",
    "\n",
    "plt.show()\n",
    "\n",
    "#package python to compute the linear line is named power law https://pypi.org/project/powerlaw/"
   ]
  },
  {
   "cell_type": "code",
   "execution_count": null,
   "metadata": {},
   "outputs": [],
   "source": [
    "import powerlaw as pl\n",
    "\n",
    "\n",
    "fit = pl.Fit(cnt_cdf)\n",
    "\n",
    "\n",
    "print(\"Alpha value of network: \", fit.alpha)"
   ]
  },
  {
   "cell_type": "code",
   "execution_count": null,
   "metadata": {},
   "outputs": [],
   "source": [
    "fit.plot_ccdf(color = 'b', marker='o', linewidth= 2)"
   ]
  },
  {
   "cell_type": "code",
   "execution_count": null,
   "metadata": {},
   "outputs": [],
   "source": [
    "fig1 = fit.plot_ccdf(color = 'b', marker='o', linewidth= 2)\n",
    "fit.power_law.plot_ccdf(color='b', linestyle='--', ax=fig1)\n"
   ]
  }
 ],
 "metadata": {
  "kernelspec": {
   "display_name": "Python 3",
   "language": "python",
   "name": "python3"
  },
  "language_info": {
   "codemirror_mode": {
    "name": "ipython",
    "version": 3
   },
   "file_extension": ".py",
   "mimetype": "text/x-python",
   "name": "python",
   "nbconvert_exporter": "python",
   "pygments_lexer": "ipython3",
   "version": "3.6.6"
  }
 },
 "nbformat": 4,
 "nbformat_minor": 2
}
